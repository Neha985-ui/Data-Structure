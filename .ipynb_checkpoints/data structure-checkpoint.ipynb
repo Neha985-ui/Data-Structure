{
 "cells": [
  {
   "cell_type": "markdown",
   "id": "2160eda9-d9ee-4687-96d5-60ef370dd19c",
   "metadata": {},
   "source": [
    "Data structure"
   ]
  },
  {
   "cell_type": "code",
   "execution_count": 5,
   "id": "10b9e923-9211-41e4-8d67-7bf08f1b4011",
   "metadata": {},
   "outputs": [
    {
     "name": "stdout",
     "output_type": "stream",
     "text": [
      "hello\n"
     ]
    }
   ],
   "source": [
    "# Discuss string slicing and provide examples\n",
    "'''\n",
    "String slicing is a fundamental concept in programming that allows \n",
    "you to extract a subset of characters from a string.\n",
    "Basic Syntax:\n",
    "`string_name[start_index:end_index:step_size]`\n",
    "Components:\n",
    "1. `start_index`: The starting position of the slice (inclusive).\n",
    "2. `end_index`: The ending position of the slice (exclusive).\n",
    "3. `step_size`: The increment between indices (default is 1).\n",
    "Common Use Cases:\n",
    "1. Extracting sub strings\n",
    "2. Removing characters from a string\n",
    "3. Reversing a string\n",
    "4. Creating a sub string from a larger string\n",
    "examples:\n",
    "positive indexing\n",
    "'''\n",
    "my_string = \"hello world\"\n",
    " \n",
    "print(my_string[0:5])\n",
    "\n",
    "\n",
    "\n",
    "\n"
   ]
  },
  {
   "cell_type": "code",
   "execution_count": 7,
   "id": "3f02977f-c00c-4b68-9f82-1223f2515b2a",
   "metadata": {},
   "outputs": [
    {
     "name": "stdout",
     "output_type": "stream",
     "text": [
      " world\n"
     ]
    }
   ],
   "source": [
    "#negative indexing\n",
    "#example\n",
    "my_string = \"hello world\"\n",
    "print(my_string[-6:])"
   ]
  },
  {
   "cell_type": "code",
   "execution_count": 11,
   "id": "2da84966-6808-45d3-a5e7-c043a5b494aa",
   "metadata": {},
   "outputs": [
    {
     "name": "stdout",
     "output_type": "stream",
     "text": [
      "3\n"
     ]
    }
   ],
   "source": [
    "#Explain the key features of lists in Python\n",
    "'''\n",
    "A list contains series of any data type: strings, int, other lists. \n",
    "The things inside a list are generically called \"elements\". Unlike strings, lists are \n",
    "\"mutable\" - they can be changed\n",
    "Description: Ordered, mutable collections of elements. Think of shopping lists or task lists. \n",
    "Lists can hold items of various data types (numbers, strings, even other lists!).\n",
    "Operations: You can add, remove, or modify elements within a list using indexing and slicing.\n",
    "Lists are versatile for storing and managing collections that might change.\n",
    "key features\n",
    "1.Order collection(elements are stored)\n",
    "2.Mutable(can be modified)\n",
    "3.Indexed(access elements by index)\n",
    "4.Dynamic size(can grow/shrink)\n",
    "5.Can store diverse data types(int,float,string,etc.)\n",
    "example\n",
    "'''\n",
    "z = (3,7,6,5)\n",
    "print(z[0])\n",
    "\n"
   ]
  },
  {
   "cell_type": "code",
   "execution_count": 50,
   "id": "26c58548-63e8-40b3-9b55-e093d5088ff6",
   "metadata": {},
   "outputs": [
    {
     "name": "stdout",
     "output_type": "stream",
     "text": [
      "10\n",
      "20\n",
      "60\n"
     ]
    }
   ],
   "source": [
    "# Describe how to access modify and delete elements on a list with examples\n",
    "'''\n",
    "Ways to Modify a Python List\n",
    "Index method\n",
    "Count method\n",
    "Sort method\n",
    "Append method\n",
    "Remove method\n",
    "Pop method\n",
    "Extend method\n",
    "Insert method\n",
    "example\n",
    "'''\n",
    "list = [ 10, 20, 30, 40, 50, 60]\n",
    "print(list[0])\n",
    "print(list[1])\n",
    "print(list[-1])\n"
   ]
  },
  {
   "cell_type": "code",
   "execution_count": 58,
   "id": "86e55b2b-c591-4492-ac6b-07da2f2480b4",
   "metadata": {},
   "outputs": [
    {
     "name": "stdout",
     "output_type": "stream",
     "text": [
      "original list \n",
      "[10, 20, 30, 40, 50, 60]\n",
      "\n",
      "New list\n",
      "[11, 21, 30, 40, 50, 61]\n"
     ]
    }
   ],
   "source": [
    "List=[ 10, 20, 30, 40, 50, 60] \n",
    "print(\"original list \") \n",
    "print(List) \n",
    "  \n",
    "#changing the first value \n",
    "List[0] = 11\n",
    "  \n",
    "#changing the second value \n",
    "List[1] = 21\n",
    "  \n",
    "#changing the last element \n",
    "List[ -1] = 61\n",
    "  \n",
    "print(\"\\nNew list\") \n",
    "print(List)"
   ]
  },
  {
   "cell_type": "code",
   "execution_count": 60,
   "id": "18620545-6c9b-4ec4-9767-c285d04dfae2",
   "metadata": {},
   "outputs": [
    {
     "name": "stdout",
     "output_type": "stream",
     "text": [
      "[10, 20, 40, 50]\n"
     ]
    }
   ],
   "source": [
    "#The simplest way to remove an element from a list by its value is by using the remove() \n",
    "#method. Here’s an example:\n",
    "a = [10, 20, 30, 40, 50]\n",
    "a.remove(30)\n",
    "print(a)"
   ]
  },
  {
   "cell_type": "code",
   "execution_count": 62,
   "id": "9bad478e-2710-4c2d-807f-3474921feb0a",
   "metadata": {},
   "outputs": [
    {
     "name": "stdout",
     "output_type": "stream",
     "text": [
      "Original list  [1, 2, 4, 4, 3, 3, 3, 6, 5]\n",
      "Example to show mutability  [1, 2, 4, 77, 3, 3, 3, 6, 5]\n"
     ]
    }
   ],
   "source": [
    "#Compare and contrast tuples and lists with examples\n",
    "'''\n",
    "lists = lists are mutable\n",
    "The implication of iterations is Time-consuming\n",
    "The list is better for performing operations, such as insertion and deletion \n",
    "Lists consume more memory\n",
    "Lists have several built-in methods\n",
    "Unexpected changes and errors are more likely to occur\n",
    "\n",
    "tuple\n",
    "tuples are immutable\n",
    "The implication of iterations is comparatively Faster\n",
    "A Tuple data type is appropriate for accessing the elements\n",
    "Tuple consumes less memory as compared to the list\n",
    "Tuple does not have many built-in methods\n",
    "Because tuples don’t change they are far less error-prone.\n",
    "example\n",
    "'''\n",
    "# Creating a List with\n",
    "# the use of Numbers\n",
    "# code to test that tuples are mutable\n",
    "List = [1, 2, 4, 4, 3, 3, 3, 6, 5]\n",
    "print(\"Original list \", List)\n",
    "\n",
    "List[3] = 77\n",
    "print(\"Example to show mutability \", List)\n",
    "\n",
    "\n",
    "\n"
   ]
  },
  {
   "cell_type": "code",
   "execution_count": 64,
   "id": "4785b9dd-d07d-4e17-826f-f8e3d384d553",
   "metadata": {},
   "outputs": [
    {
     "ename": "TypeError",
     "evalue": "'tuple' object does not support item assignment",
     "output_type": "error",
     "traceback": [
      "\u001b[0;31m---------------------------------------------------------------------------\u001b[0m",
      "\u001b[0;31mTypeError\u001b[0m                                 Traceback (most recent call last)",
      "Cell \u001b[0;32mIn[64], line 5\u001b[0m\n\u001b[1;32m      1\u001b[0m \u001b[38;5;66;03m#example\u001b[39;00m\n\u001b[1;32m      2\u001b[0m \u001b[38;5;66;03m# code to test that tuples are immutable\u001b[39;00m\n\u001b[1;32m      4\u001b[0m tuple1 \u001b[38;5;241m=\u001b[39m (\u001b[38;5;241m0\u001b[39m, \u001b[38;5;241m1\u001b[39m, \u001b[38;5;241m2\u001b[39m, \u001b[38;5;241m3\u001b[39m)\n\u001b[0;32m----> 5\u001b[0m tuple1[\u001b[38;5;241m0\u001b[39m] \u001b[38;5;241m=\u001b[39m \u001b[38;5;241m4\u001b[39m\n\u001b[1;32m      6\u001b[0m \u001b[38;5;28mprint\u001b[39m(tuple1)\n",
      "\u001b[0;31mTypeError\u001b[0m: 'tuple' object does not support item assignment"
     ]
    }
   ],
   "source": [
    "#example\n",
    "# code to test that tuples are immutable\n",
    "\n",
    "tuple1 = (0, 1, 2, 3)\n",
    "tuple1[0] = 4\n",
    "print(tuple1)"
   ]
  },
  {
   "cell_type": "code",
   "execution_count": 66,
   "id": "2e9f83d5-c7cd-4476-8c28-0dc3b0ba27d8",
   "metadata": {},
   "outputs": [
    {
     "data": {
      "text/plain": [
       "set"
      ]
     },
     "execution_count": 66,
     "metadata": {},
     "output_type": "execute_result"
    }
   ],
   "source": [
    "# Describe the key features of sets and provide examples of their use\n",
    "'''\n",
    "A Set in Python programming is an unordered collection data type that is iterable and has no \n",
    "duplicate elements. While sets are mutable, meaning you can add or remove elements after their\n",
    "creation, the individual elements within the set must be immutable and cannot be changed \n",
    "directly.\n",
    "Set are represented by { } (values enclosed in curly braces)\n",
    "The major advantage of using a set, as opposed to a list, is that it has a highly optimized \n",
    "method for checking whether a specific element is contained in the set. This is based on a \n",
    "data structure known as a hash table. Since sets are unordered, we cannot access items using \n",
    "indexes as we do in lists.\n",
    "examples:\n",
    "'''\n",
    "var = {\"Geeks\", \"for\", \"Geeks\"}\n",
    "type(var)\n",
    "\n",
    " \n",
    "\n"
   ]
  },
  {
   "cell_type": "code",
   "execution_count": 68,
   "id": "ba715681-660e-4887-ab10-2e4fc895497c",
   "metadata": {},
   "outputs": [
    {
     "name": "stdout",
     "output_type": "stream",
     "text": [
      "{'a', 'c', 'b'}\n",
      "{'a', 'c', 'd', 'b'}\n"
     ]
    }
   ],
   "source": [
    "#example2\n",
    "# typecasting list to set\n",
    "myset = set([\"a\", \"b\", \"c\"])\n",
    "print(myset)\n",
    "\n",
    "# Adding element to the set\n",
    "myset.add(\"d\")\n",
    "print(myset)"
   ]
  },
  {
   "cell_type": "code",
   "execution_count": 72,
   "id": "c36be433-b18b-4ef4-a699-cbf6935857c5",
   "metadata": {},
   "outputs": [
    {
     "name": "stdout",
     "output_type": "stream",
     "text": [
      "{'Geeks', 'for'}\n"
     ]
    },
    {
     "ename": "TypeError",
     "evalue": "'set' object does not support item assignment",
     "output_type": "error",
     "traceback": [
      "\u001b[0;31m---------------------------------------------------------------------------\u001b[0m",
      "\u001b[0;31mTypeError\u001b[0m                                 Traceback (most recent call last)",
      "Cell \u001b[0;32mIn[72], line 11\u001b[0m\n\u001b[1;32m      8\u001b[0m \u001b[38;5;28mprint\u001b[39m(myset)\n\u001b[1;32m     10\u001b[0m \u001b[38;5;66;03m# values of a set cannot be changed\u001b[39;00m\n\u001b[0;32m---> 11\u001b[0m myset[\u001b[38;5;241m1\u001b[39m] \u001b[38;5;241m=\u001b[39m \u001b[38;5;124m\"\u001b[39m\u001b[38;5;124mHello\u001b[39m\u001b[38;5;124m\"\u001b[39m\n\u001b[1;32m     12\u001b[0m \u001b[38;5;28mprint\u001b[39m(myset)\n",
      "\u001b[0;31mTypeError\u001b[0m: 'set' object does not support item assignment"
     ]
    }
   ],
   "source": [
    "#example3\n",
    "# Python program to demonstrate that\n",
    "# a set cannot have duplicate values \n",
    "# and we cannot change its items\n",
    "\n",
    "# a set cannot have duplicate values\n",
    "myset = {\"Geeks\", \"for\", \"Geeks\"}\n",
    "print(myset)\n",
    "\n",
    "# values of a set cannot be changed\n",
    "myset[1] = \"Hello\"\n",
    "print(myset)"
   ]
  },
  {
   "cell_type": "code",
   "execution_count": null,
   "id": "9666c444-0385-4aed-8261-54ee1ffc8016",
   "metadata": {},
   "outputs": [],
   "source": [
    "#Discuss the use cases of tuples and sets on Python programming\n",
    "'''\n",
    "*Tuples*\n",
    "\n",
    "_Immutable collection of objects_\n",
    "_Defined using parentheses `()` or tuple literal syntax_\n",
    "\n",
    "*Use Cases:*\n",
    "\n",
    "1. *Constant data*: Store constant data that shouldn't be modified.\n",
    "2. *Function arguments*: Use tuples to pass multiple arguments to functions.\n",
    "3. *Data integrity*: Ensure data integrity by preventing modification.\n",
    "4. *Faster performance*: Tuples are faster than lists due to immutability.\n",
    "5. *Dictionary keys*: Tuples can be used as dictionary keys.\n",
    "example:\n",
    "# Constant data\n",
    "colors = (\"red\", \"green\", \"blue\")\n",
    "\n",
    "# Function arguments\n",
    "def greet(name, age):\n",
    "    print(f\"Hello, {name}! You're {age} years old.\")\n",
    "greet(*(\"John\", 30))\n",
    "\n",
    "# Data integrity\n",
    "student_info = (\"John\", 30, \"Student\")\n",
    "print(student_info)\n",
    "\n",
    "# Faster performance\n",
    "numbers = tuple(range(1000000))\n",
    "print(sum(numbers))\n",
    "\n",
    "# Dictionary keys\n",
    "grades = {(1, \"Math\"): 90, (2, \"Science\"): 85}\n",
    "print(grades[(1, \"Math\")])\n",
    "\n",
    "sets\n",
    "Unordered collection of unique objects_\n",
    "_Defined using curly brackets `{}` or set literal syntax_\n",
    "\n",
    "*Use Cases:*\n",
    "\n",
    "1. *Unique values*: Store unique values without duplicates.\n",
    "2. *Fast membership testing*: Check if an element exists in the set.\n",
    "3. *Set operations*: Perform union, intersection, difference, and symmetric difference.\n",
    "4. *Data deduplication*: Remove duplicates from a collection.\n",
    "5. *Database query optimization*: Optimize database queries using set operations.\n",
    "Example:\n",
    "```\n",
    "# Unique values\n",
    "numbers = {1, 2, 2, 3, 4, 4, 5}\n",
    "print(numbers) # {1, 2, 3, 4, 5}\n",
    "\n",
    "# Fast membership testing\n",
    "if 3 in numbers:\n",
    "    print(\"3 is in the set\")\n",
    "\n",
    "# Set operations\n",
    "a = {1, 2, 3}\n",
    "b = {3, 4, 5}\n",
    "print(a.union(b)) # {1, 2, 3, 4, 5}\n",
    "print(a.intersection(b)) # {3}\n",
    "Data deduplication\n",
    "names = [\"John\", \"Mary\", \"John\", \"David\"]\n",
    "unique_names = set(names)\n",
    "print(unique_names) # {\"John\", \"Mary\", \"David\"}\n",
    "```\n",
    "\n",
    "*Key Differences:*\n",
    "\n",
    "- Tuples are ordered, sets are unordered.\n",
    "- Tuples are immutable, sets are mutable.\n",
    "- Tuples allow duplicates, sets do not."
   ]
  },
  {
   "cell_type": "code",
   "execution_count": 75,
   "id": "e8542680-1935-4cc9-9069-4e1bf65cc340",
   "metadata": {},
   "outputs": [
    {
     "name": "stdout",
     "output_type": "stream",
     "text": [
      "{'name': 'John', 'age': 20, 'grade': 'A'}\n"
     ]
    }
   ],
   "source": [
    "#Describe how to add  modify and delete items in a dictionary with examples\n",
    "#adding method\n",
    "#Use direct assignment (dictionary_name[key] = value) or .update() method.\n",
    "#example\n",
    "student = {\"name\": \"John\", \"age\": 20}\n",
    "student[\"grade\"] = \"A\"\n",
    "print(student) \n",
    "\n"
   ]
  },
  {
   "cell_type": "code",
   "execution_count": 77,
   "id": "6b67e49b-0a43-4a23-bc55-7b73f04b2133",
   "metadata": {},
   "outputs": [
    {
     "name": "stdout",
     "output_type": "stream",
     "text": [
      "{'name': 'John', 'age': 20, 'grade': 'A'}\n"
     ]
    }
   ],
   "source": [
    "student = {\"name\": \"John\", \"age\": 20}\n",
    "student.update({\"grade\": \"A\"})\n",
    "print(student)"
   ]
  },
  {
   "cell_type": "code",
   "execution_count": 79,
   "id": "dccc8735-aaf1-4ec9-b922-4eadab411074",
   "metadata": {},
   "outputs": [
    {
     "name": "stdout",
     "output_type": "stream",
     "text": [
      "{'name': 'John', 'age': 20, 'grade': 'A'}\n"
     ]
    }
   ],
   "source": [
    "student = {\"name\": \"John\", \"age\": 20}\n",
    "student.setdefault(\"grade\", \"A\")\n",
    "print(student)"
   ]
  },
  {
   "cell_type": "code",
   "execution_count": 81,
   "id": "96e22465-0a9e-4664-96a7-e2442b337768",
   "metadata": {},
   "outputs": [
    {
     "name": "stdout",
     "output_type": "stream",
     "text": [
      "{'name': 'John', 'age': 21}\n"
     ]
    }
   ],
   "source": [
    "#modifying\n",
    "#example\n",
    "student = {\"name\": \"John\", \"age\": 20}\n",
    "student[\"age\"] = 21\n",
    "print(student)\n"
   ]
  },
  {
   "cell_type": "code",
   "execution_count": 83,
   "id": "271dd52b-a71c-4e39-9afb-5a4941543907",
   "metadata": {},
   "outputs": [
    {
     "name": "stdout",
     "output_type": "stream",
     "text": [
      "{'name': 'John', 'age': 21}\n"
     ]
    }
   ],
   "source": [
    "student = {\"name\": \"John\", \"age\": 20}\n",
    "student.update({\"age\": 21})\n",
    "print(student) "
   ]
  },
  {
   "cell_type": "code",
   "execution_count": 85,
   "id": "cc2af273-1527-444a-9ecc-5aa4ee2404ad",
   "metadata": {},
   "outputs": [
    {
     "name": "stdout",
     "output_type": "stream",
     "text": [
      "{'name': 'John'}\n"
     ]
    }
   ],
   "source": [
    "#deleting items\n",
    "#example\n",
    "student = {\"name\": \"John\", \"age\": 20}\n",
    "del student[\"age\"]\n",
    "print(student) "
   ]
  },
  {
   "cell_type": "code",
   "execution_count": 87,
   "id": "2d0cb621-074d-4f19-b044-538cfb4a199d",
   "metadata": {},
   "outputs": [
    {
     "name": "stdout",
     "output_type": "stream",
     "text": [
      "{'name': 'John'}\n"
     ]
    }
   ],
   "source": [
    "student = {\"name\": \"John\", \"age\": 20}\n",
    "student.pop(\"age\")\n",
    "print(student)"
   ]
  },
  {
   "cell_type": "code",
   "execution_count": 89,
   "id": "26001958-ebcc-4c66-8be3-680a583b0f40",
   "metadata": {},
   "outputs": [
    {
     "name": "stdout",
     "output_type": "stream",
     "text": [
      "{'name': 'John'}\n"
     ]
    }
   ],
   "source": [
    "student = {\"name\": \"John\", \"age\": 20}\n",
    "student.popitem()\n",
    "print(student)"
   ]
  },
  {
   "cell_type": "code",
   "execution_count": 91,
   "id": "93db3bdd-625e-478b-b960-2d8bb0e773a4",
   "metadata": {},
   "outputs": [
    {
     "name": "stdout",
     "output_type": "stream",
     "text": [
      "John\n"
     ]
    }
   ],
   "source": [
    "# Discuss the importance of dictionary keys being immutable and provide examples\n",
    "'''\n",
    "In Python, dictionary keys must be immutable, meaning they cannot be changed after creation. This is crucial for maintaining the dictionary's integrity and \n",
    "ensuring efficient look ups.\n",
    "*Why Immutable Keys?*\n",
    "\n",
    "1. *Hashing*: Dictionaries use hashing to store and retrieve key-value pairs efficiently. Immutable keys ensure that the hash value remains constant, allowing \n",
    "for fast look ups.\n",
    "2. *Uniqueness*: Immutable keys prevent duplicate keys from being created, maintaining the dictionary's uniqueness constraint.\n",
    "3. *Predictable Behavior*: Immutable keys ensure predictable behavior when iterating over or accessing dictionary elements\n",
    "*Examples of Immutable Keys*\n",
    "\n",
    "1. *Strings\n",
    "'''\n",
    "student = {\"name\": \"John\", \"age\": 20}\n",
    "print(student[\"name\"])\n",
    "\n"
   ]
  },
  {
   "cell_type": "code",
   "execution_count": 93,
   "id": "d2057c52-5f41-4a80-a5fd-c8c448892853",
   "metadata": {},
   "outputs": [
    {
     "name": "stdout",
     "output_type": "stream",
     "text": [
      "A\n"
     ]
    }
   ],
   "source": [
    "#integers\n",
    "grades = {1: \"A\", 2: \"B\", 3: \"C\"}\n",
    "print(grades[1])"
   ]
  },
  {
   "cell_type": "code",
   "execution_count": 95,
   "id": "a40309af-bb84-4374-81a3-ca01348f7991",
   "metadata": {},
   "outputs": [
    {
     "name": "stdout",
     "output_type": "stream",
     "text": [
      "Point A\n"
     ]
    }
   ],
   "source": [
    "#Tuples*\n",
    "coordinates = {(1, 2): \"Point A\", (3, 4): \"Point B\"}\n",
    "print(coordinates[(1, 2)]) "
   ]
  },
  {
   "cell_type": "code",
   "execution_count": 97,
   "id": "7c9689a8-6b83-4d0b-9d1c-b67cac331cdc",
   "metadata": {},
   "outputs": [
    {
     "name": "stdout",
     "output_type": "stream",
     "text": [
      "Active\n"
     ]
    }
   ],
   "source": [
    "#Boolean Values\n",
    "status = {True: \"Active\", False: \"Inactive\"}\n",
    "print(status[True])"
   ]
  },
  {
   "cell_type": "markdown",
   "id": "317aca6d-a211-4a54-8851-966d02fd5416",
   "metadata": {},
   "source": [
    "THANK YOU"
   ]
  }
 ],
 "metadata": {
  "kernelspec": {
   "display_name": "anaconda-panel-2023.05-py310",
   "language": "python",
   "name": "conda-env-anaconda-panel-2023.05-py310-py"
  },
  "language_info": {
   "codemirror_mode": {
    "name": "ipython",
    "version": 3
   },
   "file_extension": ".py",
   "mimetype": "text/x-python",
   "name": "python",
   "nbconvert_exporter": "python",
   "pygments_lexer": "ipython3",
   "version": "3.11.5"
  }
 },
 "nbformat": 4,
 "nbformat_minor": 5
}
