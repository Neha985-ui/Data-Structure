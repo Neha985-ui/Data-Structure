{
 "cells": [
  {
   "cell_type": "markdown",
   "id": "00800c98-14f2-48ab-bf15-67d8dca7d908",
   "metadata": {},
   "source": [
    "Python Basics"
   ]
  },
  {
   "cell_type": "code",
   "execution_count": null,
   "id": "ff222928-41e5-4b50-9d46-20e98ca1a607",
   "metadata": {},
   "outputs": [],
   "source": [
    "#Explain the key features of Python that make it a popular choice for programming\n",
    "'''\n",
    "Python is a dynamic, high-level, free open source, and interpreted programming language. It supports object-oriented \n",
    "programming as well as procedural-oriented programming. In Python, we don’t need to declare the type of variable because \n",
    "it is a dynamically typed language. \n",
    "key features\n",
    " 1.Free and Open Source\n",
    " Python language is freely available at the official website and we can download it latest version from official website.\n",
    " 2. Easy to code\n",
    "Python is a high-level programming language. Python is very easy to learn the language as compared to other languages \n",
    "like C, C#, Javascript, Java, etc. It is very easy to code in the Python language and anybody can learn Python basics .\n",
    "It is also a developer-friendly language. \n",
    " 3.Easy to Read\n",
    "As  we see, learning Python is quite simple. As was already established, Python’s syntax is really straightforward. \n",
    "The code block is defined by the indentations rather than by semicolons or brackets.\n",
    "4. Object-Oriented Language\n",
    "One of the key features of Python is Object-Oriented programming. Python supports object-oriented language and concepts of \n",
    "classes, object encapsulation, etc.\n",
    "5. GUI Programming Support\n",
    "Graphical User interfaces can be made using a module such as PyQt5, PyQt4, wxPython, or Tk in Python. PyQt5 is the \n",
    "most popular option for creating graphical apps with Python.\n",
    "6.High-Level Language\n",
    "Python is a high-level language. When we write programs in Python, we do not need to remember the system architecture, \n",
    "nor do we need to manage the memory.\n",
    "7.Python has gained popularity over the years. Our questions are constantly answered by the enormous StackOverflow community. \n",
    "These websites have already provided answers to many questions about Python, so Python users can consult them as needed.\n",
    "8. Large Standard Library \n",
    "Python has a large standard library that provides a rich set of modules and functions so you do not have to write your own \n",
    "code for every single thing. There are many libraries present in Python such as regular expressions, unit-testing, \n",
    "web browsers, etc."
   ]
  },
  {
   "cell_type": "code",
   "execution_count": 1,
   "id": "02d5b6db-0c69-4280-aea9-d121496db8dc",
   "metadata": {},
   "outputs": [
    {
     "name": "stdout",
     "output_type": "stream",
     "text": [
      "['False', 'None', 'True', 'and', 'as', 'assert', 'async', 'await', 'break', 'class', 'continue', 'def', 'del', 'elif', 'else', 'except', 'finally', 'for', 'from', 'global', 'if', 'import', 'in', 'is', 'lambda', 'nonlocal', 'not', 'or', 'pass', 'raise', 'return', 'try', 'while', 'with', 'yield']\n"
     ]
    }
   ],
   "source": [
    "#Describe the role of predefined keywords in Python and provide examples of how they are used in program.\n",
    "'''\n",
    "Keywords are reserved words that convey a special meaning and purpose within the context of the language.\n",
    "Keywords in Python are predefined words, that are not to be used as any other kind of identifiers like for example,\n",
    "variable names or function names. These keywords are a part of the syntax in the language with a special meaning associated\n",
    "with them. They play a major role in Python code by defining its structure and logic.\n",
    "'''\n",
    "import keyword\n",
    "print(keyword.kwlist)"
   ]
  },
  {
   "cell_type": "code",
   "execution_count": 3,
   "id": "4f101c29-1deb-44b2-baaf-4002a593020f",
   "metadata": {},
   "outputs": [
    {
     "name": "stdout",
     "output_type": "stream",
     "text": [
      "True\n",
      "False\n",
      "None\n"
     ]
    }
   ],
   "source": [
    "#value keywords \n",
    "'''\n",
    "Value keywords are used to represent specific values in Python.\n",
    "True, False- They both are used in logical expressions and represent the boolean values 'True' and ' False'.\n",
    "None- It is used to represent that there is no value or it is null.\n",
    "example\n",
    "'''\n",
    "print(True)\n",
    "print(False)\n",
    "print(None)\n",
    "\n"
   ]
  },
  {
   "cell_type": "code",
   "execution_count": 5,
   "id": "b8ba033e-7283-41e4-9aca-c2cca3cb0477",
   "metadata": {},
   "outputs": [
    {
     "name": "stdout",
     "output_type": "stream",
     "text": [
      "False\n",
      "True\n",
      "False\n",
      "True\n",
      "True\n"
     ]
    },
    {
     "name": "stderr",
     "output_type": "stream",
     "text": [
      "<>:17: SyntaxWarning: \"is\" with a literal. Did you mean \"==\"?\n",
      "<>:17: SyntaxWarning: \"is\" with a literal. Did you mean \"==\"?\n",
      "/tmp/ipykernel_129/226189211.py:17: SyntaxWarning: \"is\" with a literal. Did you mean \"==\"?\n",
      "  print(5 is 5)\n"
     ]
    }
   ],
   "source": [
    "#Operator keywords\n",
    "'''\n",
    "The operator keywords are used to perform logical and comparison operations in a Python program.\n",
    "and-It will return 'True' when both the operands are 'True'.\n",
    "or-It will return 'True' when at least one of the operand is 'True'.\n",
    "not-It will return the opposite of the operand.\n",
    "in-It checks that whether a specified value is present in the given sequence.\n",
    "is-It compares the identity of objects\n",
    "example\n",
    "'''\n",
    "a = True\n",
    "b = False\n",
    "print(a and b)\n",
    "print(a or b)\n",
    "print(not a)\n",
    "print(5 in [1, 2, 3, 4, 5])\n",
    "print(5 is 5)"
   ]
  },
  {
   "cell_type": "code",
   "execution_count": 7,
   "id": "0248de0c-a2cb-4af2-9b08-9569e8954ced",
   "metadata": {},
   "outputs": [
    {
     "name": "stdout",
     "output_type": "stream",
     "text": [
      "x is greater than 5\n"
     ]
    }
   ],
   "source": [
    "#Control flow keywords\n",
    "'''\n",
    "The control flow keywords are used to execute code blocks with conditional statements.\n",
    "if-It will execute a code block if the condition is 'True'.\n",
    "elif-It is the short form of 'else if'. It will put another alternative condition for checking if the 'if' condition is 'False'.\n",
    "else-It will execute a code block if none of the conditions are 'True'.\n",
    "example\n",
    "'''\n",
    "x = 10\n",
    "if x > 5:\n",
    "    print(\"x is greater than 5\")\n",
    "elif x == 5:\n",
    "    print(\"x is equal to 5\")\n",
    "else:\n",
    "    print(\"x is less than 5\")\n"
   ]
  },
  {
   "cell_type": "code",
   "execution_count": 9,
   "id": "1a755fc9-0857-4ac7-b98a-636df5743d5d",
   "metadata": {},
   "outputs": [
    {
     "name": "stdout",
     "output_type": "stream",
     "text": [
      "0\n",
      "1\n",
      "2\n"
     ]
    }
   ],
   "source": [
    "#Iteration Keywords\n",
    "'''\n",
    "The iteration keywords are used to control loop execution.\n",
    "for-It iterates over the elements of a specified sequence.\n",
    "while-It will execute a code block as long as the condition is 'True'.\n",
    "break-It is used for terminating the loop before completion.\n",
    "continue-It is used for skipping the current iteration and continue with the next one.\n",
    "else-It will execute a code block when the has completed without a 'break' statement.\n",
    "example\n",
    "'''\n",
    "for i in range(5):\n",
    "    if i == 3:\n",
    "        break\n",
    "    print(i)\n",
    "else:\n",
    "    print(\"Loop completed successfully\")"
   ]
  },
  {
   "cell_type": "code",
   "execution_count": 13,
   "id": "20d87a04-7bf7-46be-b639-80478ca18377",
   "metadata": {},
   "outputs": [
    {
     "ename": "TypeError",
     "evalue": "'tuple' object does not support item assignment",
     "output_type": "error",
     "traceback": [
      "\u001b[0;31m---------------------------------------------------------------------------\u001b[0m",
      "\u001b[0;31mTypeError\u001b[0m                                 Traceback (most recent call last)",
      "Cell \u001b[0;32mIn[13], line 16\u001b[0m\n\u001b[1;32m     12\u001b[0m \u001b[38;5;66;03m# Python code to test that \u001b[39;00m\n\u001b[1;32m     13\u001b[0m \u001b[38;5;66;03m# tuples are immutable \u001b[39;00m\n\u001b[1;32m     15\u001b[0m tuple1 \u001b[38;5;241m=\u001b[39m (\u001b[38;5;241m0\u001b[39m, \u001b[38;5;241m1\u001b[39m, \u001b[38;5;241m2\u001b[39m, \u001b[38;5;241m3\u001b[39m) \n\u001b[0;32m---> 16\u001b[0m tuple1[\u001b[38;5;241m0\u001b[39m] \u001b[38;5;241m=\u001b[39m \u001b[38;5;241m4\u001b[39m\n\u001b[1;32m     17\u001b[0m \u001b[38;5;28mprint\u001b[39m(tuple1)\n",
      "\u001b[0;31mTypeError\u001b[0m: 'tuple' object does not support item assignment"
     ]
    }
   ],
   "source": [
    "#Compare and contrast mutable and immutable objects in Python with examples\n",
    "'''\n",
    "In Python, Every variable in Python holds an instance of an object. There are two types of objects in Python i.e. \n",
    "Mutable and Immutable objects. Whenever an object is instantiated, it is assigned a unique object id. The type of the\n",
    "object is defined at the runtime and it can’t be changed afterward. However, its state can be changed if it is a mutable \n",
    "object.\n",
    "Immutable Objects in Python\n",
    "Immutable Objects are of in-built datatypes like int, float, bool, string, Unicode, and tuple. In simple words, \n",
    "an immutable object can’t be changed after it is created. \n",
    "example\n",
    "In this example, we will take a tuple and try to modify its value at a particular index and print it. As a tuple \n",
    "is an immutable object, it will throw an error when we try to modify it.\n",
    "'''\n",
    "# Python code to test that \n",
    "# tuples are immutable \n",
    "  \n",
    "tuple1 = (0, 1, 2, 3) \n",
    "tuple1[0] = 4\n",
    "print(tuple1) \n"
   ]
  },
  {
   "cell_type": "code",
   "execution_count": 15,
   "id": "0448fbe5-e94a-41c8-b380-f37db37c6506",
   "metadata": {},
   "outputs": [
    {
     "name": "stdout",
     "output_type": "stream",
     "text": [
      "[1, 2, 3, 4]\n",
      "[1, 5, 2, 3, 4]\n",
      "[1, 5, 3, 4]\n",
      "[5, 3, 4]\n",
      "1\n"
     ]
    }
   ],
   "source": [
    "#Mutable Objects in Python\n",
    "'''\n",
    "Mutable Objects are of type Python list, Python dict, or Python set, lists.Custom classes are generally mutable.\n",
    "example\n",
    "'''\n",
    "my_list = [1, 2, 3]\n",
    "my_list.append(4)\n",
    "print(my_list) \n",
    "\n",
    "my_list.insert(1, 5)\n",
    "print(my_list) \n",
    "\n",
    "my_list.remove(2)\n",
    "print(my_list) \n",
    "\n",
    "popped_element = my_list.pop(0)\n",
    "print(my_list)         \n",
    "print(popped_element)  \n"
   ]
  },
  {
   "cell_type": "code",
   "execution_count": 17,
   "id": "3a642d1d-0157-46d0-a9a2-672c88cfda57",
   "metadata": {},
   "outputs": [
    {
     "name": "stdout",
     "output_type": "stream",
     "text": [
      "{'name': 'Ram', 'age': 37}\n",
      "{'name': 'Ram', 'age': 37}\n"
     ]
    }
   ],
   "source": [
    "my_dict = {\"name\": \"Ram\", \"age\": 25}\n",
    "new_dict = my_dict\n",
    "new_dict[\"age\"] = 37\n",
    "\n",
    "print(my_dict)   \n",
    "print(new_dict)\n"
   ]
  },
  {
   "cell_type": "code",
   "execution_count": 29,
   "id": "0d5cab46-537c-4d87-b36b-d68512052837",
   "metadata": {},
   "outputs": [
    {
     "name": "stdout",
     "output_type": "stream",
     "text": [
      "13\n",
      "7\n",
      "30\n",
      "3.3333333333333335\n",
      "1\n",
      "1000\n",
      "3\n"
     ]
    }
   ],
   "source": [
    "# Discuss the different types of operators in Python and provide examples of how they are used\n",
    "'''\n",
    "Python supports various types of operations, including:\n",
    " Arithmetic Operations\n",
    "- Addition: `+`\n",
    "- Subtraction: `-`\n",
    "- Multiplication: `*`\n",
    "- Division: `/`\n",
    "- Modulus (remainder): `%`\n",
    "- Exponentiation: `**`\n",
    "- Floor Division: `//`\n",
    "example\n",
    "'''\n",
    "a = 10\n",
    "b = 3\n",
    "\n",
    "print(a + b) \n",
    "print(a - b) \n",
    "print(a * b) \n",
    "print(a / b) \n",
    "print(a % b) \n",
    "print(a ** b) \n",
    "print(a // b)\n"
   ]
  },
  {
   "cell_type": "code",
   "execution_count": 31,
   "id": "ecc52be4-2343-44ce-8a10-3c113de5e5b5",
   "metadata": {},
   "outputs": [
    {
     "name": "stdout",
     "output_type": "stream",
     "text": [
      "False\n",
      "True\n",
      "True\n",
      "False\n",
      "True\n",
      "False\n"
     ]
    }
   ],
   "source": [
    "# Comparison Operations\n",
    "'''\n",
    "- Equal: `==`\n",
    "- Not Equal: `!=`\n",
    "- Greater Than: `>`\n",
    "- Less Than: `<`\n",
    "- Greater Than or Equal: `>=`\n",
    "- Less Than or Equal: `<=`\n",
    "Example:\n",
    "'''\n",
    "a = 10\n",
    "b = 3\n",
    "\n",
    "print(a == b) \n",
    "print(a != b) \n",
    "print(a > b) \n",
    "print(a < b) \n",
    "print(a >= b) \n",
    "print(a <= b)"
   ]
  },
  {
   "cell_type": "code",
   "execution_count": 33,
   "id": "8cdc8252-741c-4815-a571-c4ac85da2cae",
   "metadata": {},
   "outputs": [
    {
     "name": "stdout",
     "output_type": "stream",
     "text": [
      "False\n",
      "True\n",
      "False\n",
      "True\n"
     ]
    }
   ],
   "source": [
    "#Logical Operations\n",
    "'''\n",
    "- AND: `and`\n",
    "- OR: `or`\n",
    "- NOT: `not`\n",
    "Example:\n",
    "'''\n",
    "a = True\n",
    "b = False\n",
    "\n",
    "print(a and b) \n",
    "print(a or b) \n",
    "print(not a) \n",
    "print(not b)"
   ]
  },
  {
   "cell_type": "code",
   "execution_count": 35,
   "id": "be0296b4-3e87-44f5-8267-569dea5fb88c",
   "metadata": {},
   "outputs": [
    {
     "name": "stdout",
     "output_type": "stream",
     "text": [
      "1\n",
      "7\n",
      "6\n",
      "-6\n",
      "10\n",
      "2\n"
     ]
    }
   ],
   "source": [
    "#Bitwise Operations\n",
    "'''\n",
    "- Bitwise AND: `&`\n",
    "- Bitwise OR: `|`\n",
    "- Bitwise XOR: `^`\n",
    "- Bitwise NOT: `~`\n",
    "- Left Shift: `<<`\n",
    "- Right Shift: `>>`\n",
    "Example\n",
    "'''\n",
    "a = 5 \n",
    "b = 3 \n",
    "\n",
    "print(a & b) \n",
    "print(a | b) \n",
    "print(a ^ b)\n",
    "print(~a) \n",
    "print(a << 1) \n",
    "print(a >> 1)"
   ]
  },
  {
   "cell_type": "code",
   "execution_count": 19,
   "id": "807f16e4-8754-48bf-93ce-cc5889c48ffb",
   "metadata": {},
   "outputs": [
    {
     "name": "stdout",
     "output_type": "stream",
     "text": [
      "<class 'int'>\n",
      "<class 'float'>\n",
      "10.0\n",
      "<class 'float'>\n",
      "21.0\n",
      "<class 'float'>\n"
     ]
    }
   ],
   "source": [
    "#Explain the concept of type casting in Python with examples\n",
    "'''\n",
    "Type Casting is the method to convert the Python variable datatype into a certain data type in order to perform the \n",
    "required operation by users. In this article, we will see the various techniques for typecasting. There can be two types \n",
    "of Type Casting in Python:\n",
    "Python Implicit Type Conversion\n",
    "Python Explicit Type Conversion\n",
    "Implicit Type Conversion in Python\n",
    "In this, method, Python converts the datatype into another datatype automatically. Users\n",
    "don’t have to involve in this process.\n",
    "example\n",
    "'''\n",
    "# Python program to demonstrate \n",
    "# implicit type Casting \n",
    "\n",
    "# Python automatically converts \n",
    "# a to int \n",
    "a = 7\n",
    "print(type(a)) \n",
    "\n",
    "# Python automatically converts \n",
    "# b to float \n",
    "b = 3.0\n",
    "print(type(b)) \n",
    "\n",
    "# Python automatically converts \n",
    "# c to float as it is a float addition \n",
    "c = a + b \n",
    "print(c) \n",
    "print(type(c))\n",
    "\n",
    "# Python automatically converts \n",
    "# d to float as it is a float multiplication\n",
    "d = a * b\n",
    "print(d)\n",
    "print(type(d))\n"
   ]
  },
  {
   "cell_type": "code",
   "execution_count": 21,
   "id": "947a94ad-5208-475b-9e2d-ea80cd1937f0",
   "metadata": {},
   "outputs": [
    {
     "name": "stdout",
     "output_type": "stream",
     "text": [
      "5.0\n",
      "<class 'float'>\n"
     ]
    }
   ],
   "source": [
    "#Explicit Type Conversion in Python\n",
    "'''\n",
    "In this method, Python needs user involvement to convert the variable data type into the required data type.\n",
    "Mainly type casting can be done with these data type functions:\n",
    "Int(): Python Int() function take float or string as an argument and returns int type object.\n",
    "float(): Python float() function take int or string as an argument and return float type object.\n",
    "str(): Python str() function takes float or int as an argument and returns string type object.\n",
    "example\n",
    "'''\n",
    "# Python program to demonstrate \n",
    "# type Casting \n",
    "\n",
    "# int variable\n",
    "a = 5\n",
    "\n",
    "# typecast to float\n",
    "n = float(a)\n",
    "\n",
    "print(n)\n",
    "print(type(n))\n"
   ]
  },
  {
   "cell_type": "code",
   "execution_count": 23,
   "id": "76a8317c-e2e1-4625-9865-bb4c5eaf2872",
   "metadata": {},
   "outputs": [
    {
     "name": "stdout",
     "output_type": "stream",
     "text": [
      "5\n",
      "<class 'int'>\n"
     ]
    }
   ],
   "source": [
    "# Python program to demonstrate \n",
    "# type Casting \n",
    "\n",
    "# int variable\n",
    "a = 5.9\n",
    "\n",
    "# typecast to int\n",
    "n = int(a)\n",
    "\n",
    "print(n)\n",
    "print(type(n))\n",
    "\n",
    "\n"
   ]
  },
  {
   "cell_type": "code",
   "execution_count": 25,
   "id": "a46cee7f-726f-4ace-bfa0-73bc8cdc3334",
   "metadata": {},
   "outputs": [
    {
     "name": "stdout",
     "output_type": "stream",
     "text": [
      "5\n",
      "<class 'str'>\n"
     ]
    }
   ],
   "source": [
    "# Python program to demonstrate \n",
    "# type Casting \n",
    "\n",
    "# int variable\n",
    "a = 5\n",
    "\n",
    "# typecast to str\n",
    "n = str(a)\n",
    "\n",
    "print(n)\n",
    "print(type(n))"
   ]
  },
  {
   "cell_type": "code",
   "execution_count": 27,
   "id": "51f81d3d-fd3d-4aa0-b3af-31645183de93",
   "metadata": {},
   "outputs": [
    {
     "name": "stdout",
     "output_type": "stream",
     "text": [
      "5.9\n",
      "<class 'float'>\n"
     ]
    }
   ],
   "source": [
    "# Python program to demonstrate \n",
    "# type Casting \n",
    "\n",
    "# string variable\n",
    "a = \"5.9\"\n",
    "\n",
    "# typecast to float\n",
    "n = float(a)\n",
    "\n",
    "print(n)\n",
    "print(type(n))"
   ]
  },
  {
   "cell_type": "code",
   "execution_count": 37,
   "id": "31eab7c1-6608-478c-b54d-9aa0e28b22c2",
   "metadata": {},
   "outputs": [
    {
     "name": "stdout",
     "output_type": "stream",
     "text": [
      "10 greater than 5\n",
      "Program ended\n"
     ]
    }
   ],
   "source": [
    "#How do conditional statements work in Python? Illustrate with examples\n",
    "'''\n",
    "Conditional Statements are statements in Python that provide a choice for the control flow based on a condition.\n",
    "It means that the control flow of the Python program will be decided based on the outcome of the condition. \n",
    "\n",
    " If Conditional Statement in Python\n",
    "If the simple code of block is to be performed if the condition holds then the if statement is used. \n",
    "Here the condition mentioned holds then the code of the block runs otherwise not\n",
    "example\n",
    "'''\n",
    "if 10 > 5:\n",
    "    print(\"10 greater than 5\")\n",
    "\n",
    "print(\"Program ended\")"
   ]
  },
  {
   "cell_type": "code",
   "execution_count": 39,
   "id": "cbd64cb7-2fa2-41df-ac79-76d9cbc67153",
   "metadata": {},
   "outputs": [
    {
     "name": "stdout",
     "output_type": "stream",
     "text": [
      "No\n"
     ]
    }
   ],
   "source": [
    "#If else Conditional Statements in Python\n",
    "'''\n",
    "In a conditional if Statement the additional block of code is merged as an else statement which is performed \n",
    "when if condition is false.\n",
    "example\n",
    "'''\n",
    "x = 3\n",
    "if x == 4:\n",
    "    print(\"Yes\")\n",
    "else:\n",
    "    print(\"No\")"
   ]
  },
  {
   "cell_type": "code",
   "execution_count": 41,
   "id": "f02eafea-3b5b-4c99-ac66-15ba38bf9da7",
   "metadata": {},
   "outputs": [
    {
     "name": "stdout",
     "output_type": "stream",
     "text": [
      "letter is A\n"
     ]
    }
   ],
   "source": [
    "#Nested if..else Conditional Statements in Python\n",
    "'''\n",
    "Nested if..else means an if-else statement inside another if statement. \n",
    "In simple words first, there is an outer if statement, and inside it another if – else statement is present \n",
    "and such type of statement is known as nested if statement. We can use one if or else if statement inside another \n",
    "if or else if statements.\n",
    "example\n",
    "'''\n",
    "letter = \"A\"\n",
    "\n",
    "if letter == \"B\":\n",
    "    print(\"letter is B\")\n",
    "\n",
    "else:\n",
    "\n",
    "    if letter == \"C\":\n",
    "        print(\"letter is C\")\n",
    "\n",
    "    else:\n",
    "\n",
    "        if letter == \"A\":\n",
    "            print(\"letter is A\")\n",
    "\n",
    "        else:\n",
    "            print(\"letter isn't A, B and C\")"
   ]
  },
  {
   "cell_type": "code",
   "execution_count": 43,
   "id": "ac7ed7ec-5c90-4e86-a83e-fc01b2002ff5",
   "metadata": {},
   "outputs": [
    {
     "name": "stdout",
     "output_type": "stream",
     "text": [
      "letter is A\n"
     ]
    }
   ],
   "source": [
    "#If-elif-else Conditional Statements in Python\n",
    "'''\n",
    "The if statements are executed from the top down. As soon as one of the conditions controlling the\n",
    "if is true, the statement associated with that if is executed, and the rest of the ladder is bypassed. \n",
    "If none of the conditions is true, then the final “else” statement will be executed.\n",
    "example\n",
    "'''\n",
    "letter = \"A\"\n",
    "\n",
    "if letter == \"B\":\n",
    "    print(\"letter is B\")\n",
    "\n",
    "elif letter == \"C\":\n",
    "    print(\"letter is C\")\n",
    "\n",
    "elif letter == \"A\":\n",
    "    print(\"letter is A\")\n",
    "\n",
    "else:\n",
    "    print(\"letter isn't A, B or C\")"
   ]
  },
  {
   "cell_type": "code",
   "execution_count": 45,
   "id": "7c0f232f-03c8-42c7-b720-41a81f2f4fed",
   "metadata": {},
   "outputs": [
    {
     "name": "stdout",
     "output_type": "stream",
     "text": [
      "Hello Geek\n",
      "Hello Geek\n",
      "Hello Geek\n"
     ]
    }
   ],
   "source": [
    "# Describe the different types of loops in Python and their use cases with examples.\n",
    "'''\n",
    "Python programming language provides two types of Python loopshecking time\n",
    "For loop and While loop to handle looping requirements. Loops in Python provides three ways for executing the loops.\n",
    "While Loop in Python\n",
    "In Python, a while loop is used to execute a block of statements repeatedly until a given condition is satisfied.\n",
    "When the condition becomes false, the line immediately after the loop in the program is executed.\n",
    "example\n",
    "'''\n",
    "count = 0\n",
    "while (count < 3):\n",
    "    count = count + 1\n",
    "    print(\"Hello Geek\")"
   ]
  },
  {
   "cell_type": "code",
   "execution_count": 47,
   "id": "5abfe622-a547-4a15-9970-32bb79833d6a",
   "metadata": {},
   "outputs": [
    {
     "name": "stdout",
     "output_type": "stream",
     "text": [
      "0\n",
      "1\n",
      "2\n",
      "3\n"
     ]
    }
   ],
   "source": [
    "#For Loop in Python\n",
    "'''\n",
    "For loops are used for sequential traversal. For example: traversing a list or string or array etc. In Python, \n",
    "there is “for in” loop which is similar to foreach loop in other languages.  \n",
    "example\n",
    "'''\n",
    "n = 4\n",
    "for i in range(0, n):\n",
    "    print(i)"
   ]
  },
  {
   "cell_type": "markdown",
   "id": "c55a9d48-8866-4fb7-ad3a-da06db080d34",
   "metadata": {},
   "source": [
    "Thank You"
   ]
  }
 ],
 "metadata": {
  "kernelspec": {
   "display_name": "anaconda-2024.02-py310",
   "language": "python",
   "name": "conda-env-anaconda-2024.02-py310-py"
  },
  "language_info": {
   "codemirror_mode": {
    "name": "ipython",
    "version": 3
   },
   "file_extension": ".py",
   "mimetype": "text/x-python",
   "name": "python",
   "nbconvert_exporter": "python",
   "pygments_lexer": "ipython3",
   "version": "3.10.14"
  }
 },
 "nbformat": 4,
 "nbformat_minor": 5
}
