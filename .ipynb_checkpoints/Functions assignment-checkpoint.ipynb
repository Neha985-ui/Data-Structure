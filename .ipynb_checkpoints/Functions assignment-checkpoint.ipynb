{
 "cells": [
  {
   "cell_type": "markdown",
   "id": "cdeac3b2-a139-40fc-8ba8-dd9cfd29fb13",
   "metadata": {
    "editable": true,
    "slideshow": {
     "slide_type": ""
    },
    "tags": []
   },
   "source": [
    "Functions"
   ]
  },
  {
   "cell_type": "code",
   "execution_count": 1,
   "id": "4ffff07e-6283-456b-a8be-122fa2656528",
   "metadata": {},
   "outputs": [
    {
     "name": "stdout",
     "output_type": "stream",
     "text": [
      "I am in method_abc of ABC class. \n"
     ]
    }
   ],
   "source": [
    "#What is the difference between a function and a method in Python?\n",
    "'''\n",
    " Python has both concept of Method and Function.\n",
    " Python Method\n",
    "\n",
    "Method is called by its name, but it is associated to an object (dependent).\n",
    "A method definition always includes ‘self’ as its first parameter.\n",
    "A method is implicitly passed to the object on which it is invoked.\n",
    "It may or may not return any data.\n",
    "A method can operate on the data (instance variables) that is contained by the corresponding class\n",
    "example\n",
    "'''\n",
    "class ABC :\n",
    "    def method_abc (self):\n",
    "        print(\"I am in method_abc of ABC class. \")\n",
    " \n",
    "class_ref = ABC() # object of ABC class\n",
    "class_ref.method_abc()"
   ]
  },
  {
   "cell_type": "code",
   "execution_count": 3,
   "id": "958502aa-9da2-439c-9d61-3b05d4402b91",
   "metadata": {},
   "outputs": [
    {
     "name": "stdout",
     "output_type": "stream",
     "text": [
      "-2\n",
      "9\n"
     ]
    }
   ],
   "source": [
    "#Functions\n",
    "'''\n",
    "Function is block of code that is also called by its name. (independent)\n",
    "The function can have different parameters or may not have any at all. If any data (parameters) are passed, they are passed explicitly.\n",
    "It may or may not return any data.\n",
    "Function does not deal with Class and its instance concept.\n",
    "example\n",
    "'''\n",
    "def Subtract (a, b):\n",
    "    return (a-b)\n",
    " \n",
    "print( Subtract(10, 12) ) # prints -2\n",
    " \n",
    "print( Subtract(15, 6) ) # prints 9"
   ]
  },
  {
   "cell_type": "code",
   "execution_count": 5,
   "id": "201c65a1-a4db-401d-b740-a49caff0ead1",
   "metadata": {},
   "outputs": [
    {
     "name": "stdout",
     "output_type": "stream",
     "text": [
      "3\n"
     ]
    }
   ],
   "source": [
    "# Explain the concept of function arguments and parameters in Python.\n",
    "'''\n",
    "Parameters:\n",
    "A parameter is the variable defined within the parentheses during function definition. Simply they are written when we declare a function\n",
    "example\n",
    "'''\n",
    "# Here a,b are the parameters\n",
    "def sum(a,b):\n",
    "  print(a+b)\n",
    "  \n",
    "sum(1,2)\n"
   ]
  },
  {
   "cell_type": "code",
   "execution_count": 7,
   "id": "6427b848-3083-4760-b892-49fbabee0017",
   "metadata": {},
   "outputs": [
    {
     "name": "stdout",
     "output_type": "stream",
     "text": [
      "3\n"
     ]
    }
   ],
   "source": [
    "#Arguments:\n",
    "'''\n",
    "An argument is a value that is passed to a function when it is called. It might be a variable, value or object passed to a function or method as input.\n",
    "They are written when we are calling the function.\n",
    "example\n",
    "'''\n",
    "def sum(a,b):\n",
    "  print(a+b)\n",
    "  \n",
    "# Here the values 1,2 are arguments\n",
    "sum(1,2)"
   ]
  },
  {
   "cell_type": "code",
   "execution_count": 9,
   "id": "0c314342-1885-4afb-9898-2377cd5a4c18",
   "metadata": {},
   "outputs": [
    {
     "name": "stdout",
     "output_type": "stream",
     "text": [
      "Hello, John!\n"
     ]
    }
   ],
   "source": [
    "#What are the different ways to define and call a function in Python?\n",
    "'''\n",
    "defining and calling functions in Python\n",
    "Defining Functions\n",
    "1.Simple Function\n",
    "\n",
    "Define a function with `def` keyword\n",
    "example\n",
    "'''\n",
    "def greet(name):\n",
    "    print(\"Hello, \" + name + \"!\")\n",
    "\n",
    "# Call the function\n",
    "greet(\"John\") \n"
   ]
  },
  {
   "cell_type": "code",
   "execution_count": 11,
   "id": "50fa7cf5-aff5-4a99-aad3-826732bdb66a",
   "metadata": {},
   "outputs": [
    {
     "name": "stdout",
     "output_type": "stream",
     "text": [
      "Hello, Jane!\n"
     ]
    }
   ],
   "source": [
    "#Lambda Function\n",
    "'''\n",
    "Define a short function with `lambda` keyword.\n",
    "example\n",
    "'''\n",
    "reet = lambda name: print(\"Hello, \" + name + \"!\")\n",
    "\n",
    "# Call the lambda function\n",
    "greet(\"Jane\")"
   ]
  },
  {
   "cell_type": "code",
   "execution_count": 13,
   "id": "de5a08db-8492-4dbb-a04f-43fd7067cd02",
   "metadata": {},
   "outputs": [
    {
     "name": "stdout",
     "output_type": "stream",
     "text": [
      "Hello, World!\n"
     ]
    }
   ],
   "source": [
    "#Function with Default Value\n",
    "'''\n",
    "Define a function with default values\n",
    "example\n",
    "'''\n",
    "def greet(name = \"World\"):\n",
    "    print(\"Hello, \" + name + \"!\")\n",
    "\n",
    "# Call the function with default value\n",
    "greet() "
   ]
  },
  {
   "cell_type": "code",
   "execution_count": 15,
   "id": "408e74a5-915a-48f9-b7dd-ecc3dc1ca160",
   "metadata": {},
   "outputs": [
    {
     "name": "stdout",
     "output_type": "stream",
     "text": [
      "Hello, Bob!\n"
     ]
    }
   ],
   "source": [
    "# Call the function with custom value\n",
    "greet(\"Bob\") "
   ]
  },
  {
   "cell_type": "code",
   "execution_count": 17,
   "id": "7d43c8b7-aa01-4c05-a34b-ba18e270fcf5",
   "metadata": {},
   "outputs": [
    {
     "name": "stdout",
     "output_type": "stream",
     "text": [
      "Hello, John Doe!\n"
     ]
    }
   ],
   "source": [
    "#Function with Multiple Arguments\n",
    "'''\n",
    "Define a function with multiple arguments\n",
    "example\n",
    "'''\n",
    "def greet(first_name, last_name):\n",
    "    print(\"Hello, \" + first_name + \" \" + last_name + \"!\")\n",
    "\n",
    "# Call the function\n",
    "greet(\"John\", \"Doe\")\n"
   ]
  },
  {
   "cell_type": "code",
   "execution_count": 19,
   "id": "c058683e-2f07-4b85-a4b5-16cec6715a5e",
   "metadata": {},
   "outputs": [
    {
     "name": "stdout",
     "output_type": "stream",
     "text": [
      "Hello, John!\n",
      "Hello, Jane!\n",
      "Hello, Bob!\n"
     ]
    }
   ],
   "source": [
    "#Function with Arbitrary Arguments\n",
    "'''\n",
    "Define a function with arbitrary arguments.\n",
    "example\n",
    "'''\n",
    "def greet(*names):\n",
    "    for name in names:\n",
    "        print(\"Hello, \" + name + \"!\")\n",
    "\n",
    "# Call the function\n",
    "greet(\"John\", \"Jane\", \"Bob\") "
   ]
  },
  {
   "cell_type": "code",
   "execution_count": 21,
   "id": "efd9b474-52c1-44d4-beec-d5ca64077f46",
   "metadata": {},
   "outputs": [
    {
     "name": "stdout",
     "output_type": "stream",
     "text": [
      "Hello, John!\n"
     ]
    }
   ],
   "source": [
    "#Calling Functions\n",
    "'''\n",
    "1. *Direct Call*\n",
    "Call a function directly.\n",
    "example\n",
    "'''\n",
    "def greet(name):\n",
    "    print(\"Hello, \" + name + \"!\")\n",
    "\n",
    "greet(\"John\") "
   ]
  },
  {
   "cell_type": "code",
   "execution_count": 23,
   "id": "e0896d09-41ce-45c8-b6e7-cec3b39117e8",
   "metadata": {},
   "outputs": [
    {
     "name": "stdout",
     "output_type": "stream",
     "text": [
      "Hello, John Doe!\n"
     ]
    }
   ],
   "source": [
    "#Keyword Arguments\n",
    "'''\n",
    "Call a function with keyword arguments.\n",
    "example\n",
    "'''\n",
    "def greet(first_name, last_name):\n",
    "    print(\"Hello, \" + first_name + \" \" + last_name + \"!\")\n",
    "\n",
    "greet(first_name=\"John\", last_name=\"Doe\")  \n",
    "\n"
   ]
  },
  {
   "cell_type": "code",
   "execution_count": 25,
   "id": "646ffa25-5527-40b2-93f6-8c837c9b0490",
   "metadata": {},
   "outputs": [
    {
     "name": "stdout",
     "output_type": "stream",
     "text": [
      "5\n"
     ]
    }
   ],
   "source": [
    "#Function as Argument\n",
    "'''\n",
    "Pass a function as an argument.\n",
    "example\n",
    "'''\n",
    "def add(a, b):\n",
    "    return a + b\n",
    "\n",
    "def calculate(operation, a, b):\n",
    "    return operation(a, b)\n",
    "\n",
    "result = calculate(add, 2, 3)\n",
    "print(result)"
   ]
  },
  {
   "cell_type": "code",
   "execution_count": 33,
   "id": "f6e08b7c-31c1-4792-85d5-8822c5c11040",
   "metadata": {},
   "outputs": [
    {
     "name": "stdout",
     "output_type": "stream",
     "text": [
      "geeksforgeeks\n",
      "20\n"
     ]
    }
   ],
   "source": [
    "#What is the purpose of the `return` statement in a Python function?\n",
    "'''\n",
    "The purpose of the 'return' statement in a python function is to Determines the value that the function will return. If not \n",
    "included, the function defaults \n",
    "to returning None.\n",
    "example\n",
    "'''\n",
    "# A Python program to return multiple  \n",
    "# values from a method using class \n",
    "class Test: \n",
    "    def __init__(self): \n",
    "        self.str = \"geeksforgeeks\"\n",
    "        self.x = 20   \n",
    "  \n",
    "# This function returns an object of Test \n",
    "def fun(): \n",
    "    return Test() \n",
    "      \n",
    "# Driver code to test above method \n",
    "t = fun()  \n",
    "print(t.str) \n",
    "print(t.x)\n",
    "\n"
   ]
  },
  {
   "cell_type": "code",
   "execution_count": 1,
   "id": "b532367e-0bfa-48ae-9761-1a35342968fd",
   "metadata": {},
   "outputs": [
    {
     "ename": "TypeError",
     "evalue": "'str' object is not an iterator",
     "output_type": "error",
     "traceback": [
      "\u001b[0;31m---------------------------------------------------------------------------\u001b[0m",
      "\u001b[0;31mTypeError\u001b[0m                                 Traceback (most recent call last)",
      "Cell \u001b[0;32mIn[1], line 13\u001b[0m\n\u001b[1;32m      2\u001b[0m \u001b[38;5;124;03m'''\u001b[39;00m\n\u001b[1;32m      3\u001b[0m \u001b[38;5;124;03mIterable is an object, that one can iterate over. It generates an Iterator when passed to iter() method. An iterator is an object, which is used to iterate \u001b[39;00m\n\u001b[1;32m      4\u001b[0m \u001b[38;5;124;03mover an iterable object using the __next__() method. Iterators have the __next__() method, which returns the next item of the object.\u001b[39;00m\n\u001b[0;32m   (...)\u001b[0m\n\u001b[1;32m     10\u001b[0m \u001b[38;5;124;03mconverts into an iterator to execute the code.\u001b[39;00m\n\u001b[1;32m     11\u001b[0m \u001b[38;5;124;03m'''\u001b[39;00m\n\u001b[1;32m     12\u001b[0m \u001b[38;5;66;03m# code\u001b[39;00m\n\u001b[0;32m---> 13\u001b[0m \u001b[38;5;28;43mnext\u001b[39;49m\u001b[43m(\u001b[49m\u001b[38;5;124;43m\"\u001b[39;49m\u001b[38;5;124;43mGFG\u001b[39;49m\u001b[38;5;124;43m\"\u001b[39;49m\u001b[43m)\u001b[49m\n",
      "\u001b[0;31mTypeError\u001b[0m: 'str' object is not an iterator"
     ]
    }
   ],
   "source": [
    "#What are iterators in Python and how do they differ from iterables?\n",
    "'''\n",
    "Iterable is an object, that one can iterate over. It generates an Iterator when passed to iter() method. An iterator is an object, which is used to iterate \n",
    "over an iterable object using the __next__() method. Iterators have the __next__() method, which returns the next item of the object.\n",
    "Every iterator is also an iterable, but not every iterable is an iterator in Python.\n",
    "For example, a list is iterable but a list is not an iterator. An iterator can be created from an iterable by using the function iter(). To make this possible, \n",
    "the class of an object needs either a method __iter__, which returns an iterator, or a __getitem__ method with sequential indexes starting with 0.\n",
    "example\n",
    "We know that str is iterable but it is not an iterator. where if we run this in for loop to print string then it is possible because when for loop executes it \n",
    "converts into an iterator to execute the code.\n",
    "'''\n",
    "# code\n",
    "next(\"GFG\")"
   ]
  },
  {
   "cell_type": "code",
   "execution_count": 3,
   "id": "113c13f0-f13e-442f-99f2-292020003388",
   "metadata": {},
   "outputs": [
    {
     "name": "stdout",
     "output_type": "stream",
     "text": [
      "<str_iterator object at 0x7c08c896a4d0>\n",
      "G\n",
      "F\n",
      "G\n"
     ]
    }
   ],
   "source": [
    "#Here iter( ) is converting s which is a string (iterable) into an iterator and prints G for the first time we can call multiple times to iterate over strings\n",
    "'''\n",
    "When a for loop is executed, for statement calls iter() on the object, which it is supposed to loop over. \n",
    "If this call is successful, the iter call will return an iterator object that defines the method __next__(), which accesses elements of the object one at a time.\n",
    "example\n",
    "'''\n",
    "# code\n",
    "s=\"GFG\"\n",
    "s=iter(s)\n",
    "print(s)\n",
    "print(next(s))\n",
    "print(next(s))\n",
    "print(next(s))"
   ]
  },
  {
   "cell_type": "code",
   "execution_count": null,
   "id": "801486f5-0e2a-475f-b341-4cdbf9c7909e",
   "metadata": {},
   "outputs": [],
   "source": [
    "#The __next__() method will raise a StopIteration exception if there are no further elements available. \n",
    "'''\n",
    "The for loop will terminate as soon as it catches a StopIteration exception.   \n",
    "Let’s call the __next__() method using the next() built-in function."
   ]
  },
  {
   "cell_type": "code",
   "execution_count": 5,
   "id": "3ed650db-b844-417e-bebd-02bbe4fd4eeb",
   "metadata": {},
   "outputs": [],
   "source": [
    "#Explain the concept of generators in Python and how they are defined.\n",
    "'''\n",
    "In Python, a generator is a function that returns an iterator that produces a sequence of values when iterated over.\n",
    "Generators are useful when we want to produce a large sequence of values, but we don't want to store all of them in memory at once.\n",
    "In Python, similar to defining a normal function, we can define a generator function using the def keyword, but instead of the return statement we use the \n",
    "yield statement.\n",
    "example\n",
    "'''\n",
    "def generator_name(arg):\n",
    "    # statements\n",
    "    yield something"
   ]
  },
  {
   "cell_type": "code",
   "execution_count": 7,
   "id": "98f29338-01b9-443c-8513-3637a8ab2f53",
   "metadata": {},
   "outputs": [
    {
     "name": "stdout",
     "output_type": "stream",
     "text": [
      "0\n",
      "1\n",
      "2\n"
     ]
    }
   ],
   "source": [
    "#Here, the yield keyword is used to produce a value from the generator.\n",
    "'''\n",
    "When the generator function is called, it does not execute the function body immediately. Instead, it returns a generator object that can be iterated over\n",
    "to produce the values.\n",
    "Here's an example of a generator function that produces a sequence of numbers\n",
    "'''\n",
    "def my_generator(n):\n",
    "\n",
    "    # initialize counter\n",
    "    value = 0\n",
    "\n",
    "    # loop until counter is less than n\n",
    "    while value < n:\n",
    "\n",
    "        # produce the current value of the counter\n",
    "        yield value\n",
    "\n",
    "        # increment the counter\n",
    "        value += 1\n",
    "\n",
    "# iterate over the generator object produced by my_generator\n",
    "for value in my_generator(3):\n",
    "\n",
    "    # print each value produced by generator\n",
    "    print(value)"
   ]
  },
  {
   "cell_type": "code",
   "execution_count": 9,
   "id": "b864f3af-d241-46e9-a663-1d5af98bf3cf",
   "metadata": {},
   "outputs": [
    {
     "name": "stdout",
     "output_type": "stream",
     "text": [
      "[0, 1, 4, 9, 16]\n"
     ]
    }
   ],
   "source": [
    "#What are the advantages of using generators over regular functions?\n",
    "'''\n",
    "Advantages\n",
    "1.Memory Efficiency: Generators store only the current state, reducing memory usage.\n",
    "2. Lazy Evaluation: Generators compute values only when needed, improving performance.\n",
    "3. Infinite Sequences: Generators can handle infinite sequences, whereas regular functions cannot.\n",
    "4. Flexibility: Generators can be used as iterators, allowing for more flexibility.\n",
    "5. Improved Readability: Generators simplify code by breaking down complex computations.\n",
    "6. Faster Execution: Generators avoid computing unnecessary values, leading to faster execution.\n",
    "7. Better Handling of Large Data: Generators efficiently handle large datasets.\n",
    "\n",
    "Comparison\n",
    "                             regular function                  generators\n",
    "Memory Usage               Stores entire result           Stores current state \n",
    "Computation                Computes all values           Computes values on-the-fly\n",
    "Infinite Sequences             Not possible                   Possible\n",
    "Performance                    May be slower                  Faster\n",
    "Code Complexity                More complex                   Simple\n",
    "\n",
    "Use Cases for Generators\n",
    "1. Handling large datasets\n",
    "2. Creating infinite sequences\n",
    "3. Improving performance in loops\n",
    "4. Simplifying complex computations\n",
    "5. Implementing cooperative multitasking\n",
    "Example\n",
    "regular function\n",
    "'''\n",
    "def squares(n):\n",
    "    result = []\n",
    "    for i in range(n):\n",
    "        result.append(i**2)\n",
    "    return result\n",
    "\n",
    "print(squares(5))\n",
    "\n",
    "\n",
    "\n",
    "\n"
   ]
  },
  {
   "cell_type": "code",
   "execution_count": 11,
   "id": "634046b6-dfaa-46f6-aadd-cd1e4e3e41b6",
   "metadata": {},
   "outputs": [
    {
     "name": "stdout",
     "output_type": "stream",
     "text": [
      "0\n",
      "1\n",
      "4\n",
      "9\n",
      "16\n"
     ]
    }
   ],
   "source": [
    "#example\n",
    "#Generator\n",
    "def squares(n):\n",
    "    for i in range(n):\n",
    "        yield i**2\n",
    "\n",
    "for square in squares(5):\n",
    "    print(square) "
   ]
  },
  {
   "cell_type": "code",
   "execution_count": 13,
   "id": "331077d3-8d55-4651-a7de-4d5fb3731c33",
   "metadata": {},
   "outputs": [
    {
     "name": "stdout",
     "output_type": "stream",
     "text": [
      "PWSKILLS\n"
     ]
    }
   ],
   "source": [
    "#What is a lambda function in Python and when is it typically used?\n",
    "'''\n",
    "Lambda functions are small, anonymous functions defined using the lambda keyword. They are used for creating small, throwaway functions without the need to \n",
    "formally define a function using def.\n",
    "Key Points:\n",
    "Anonymous: Lambda functions are not bound to a name.\n",
    "Single Expression: They can contain only one expression, which is evaluated and returned.\n",
    "Syntax:\n",
    "lambda arguments: expression\n",
    "Example\n",
    "'''\n",
    "str1 = 'pwskills'\n",
    "\n",
    "upper = lambda string: string.upper()\n",
    "print(upper(str1))\n"
   ]
  },
  {
   "cell_type": "code",
   "execution_count": 15,
   "id": "a49824ab-3fff-4856-a72a-a4b9f2cd387b",
   "metadata": {},
   "outputs": [
    {
     "name": "stdout",
     "output_type": "stream",
     "text": [
      "[1, 2, 3, 4]\n"
     ]
    }
   ],
   "source": [
    "#Explain the purpose and usage of the `map()` function in Python\n",
    "'''\n",
    "The Python map() function applies a function to every item in an iterable, such as a list or tuple, and returns a new iterable.\n",
    "\n",
    "Purpose\n",
    "The map() function is used to apply a single transformation function to all the elements in an iterable. \n",
    "\n",
    "Usage\n",
    "The map() function takes an iterable and a function as arguments. It returns a map object, which is an iterator that can be used in other parts of the program. \n",
    "The map object can also be converted to sequence objects like lists or tuples\n",
    "example\n",
    "'''\n",
    "s = ['1', '2', '3', '4']\n",
    "res = map(int, s)\n",
    "print(list(res))"
   ]
  },
  {
   "cell_type": "code",
   "execution_count": 17,
   "id": "99e74306-0d48-4638-a6f2-0d8cb8f38784",
   "metadata": {},
   "outputs": [
    {
     "name": "stdout",
     "output_type": "stream",
     "text": [
      "[1, 4, 9, 16, 25]\n"
     ]
    }
   ],
   "source": [
    "#What is the difference between `map()`, `reduce()`, and `filter()` functions in Python?\n",
    "'''\n",
    "map()`, `reduce()`, and `filter()` are three fundamental functions in Python's Functional Programming toolkit.\n",
    "\n",
    "map()\n",
    "Applies a function to each element of an iterable (list, tuple, etc.)\n",
    "Returns a map object with transformed elements\n",
    "example\n",
    "'''\n",
    "def square(x):\n",
    "    return x**2\n",
    "\n",
    "numbers = [1, 2, 3, 4, 5]\n",
    "squared_numbers = list(map(square, numbers))\n",
    "print(squared_numbers) "
   ]
  },
  {
   "cell_type": "code",
   "execution_count": 23,
   "id": "14f9a7d0-e12c-4cf2-ab9c-64eab31a8ff4",
   "metadata": {},
   "outputs": [
    {
     "name": "stdout",
     "output_type": "stream",
     "text": [
      "15\n"
     ]
    }
   ],
   "source": [
    "#reduce\n",
    "'''\n",
    "Applies a function to all elements of an iterable, accumulating a result\n",
    "Returns a single value\n",
    "example\n",
    "'''\n",
    "import functools\n",
    "\n",
    "def add(x, y):\n",
    "    return x + y\n",
    "\n",
    "numbers = [1, 2, 3, 4, 5]\n",
    "sum = functools.reduce(add, numbers)\n",
    "print(sum)"
   ]
  },
  {
   "cell_type": "code",
   "execution_count": 19,
   "id": "89e68562-ffed-48ce-b6b7-04c8704c61d8",
   "metadata": {},
   "outputs": [
    {
     "name": "stdout",
     "output_type": "stream",
     "text": [
      "[2, 4]\n"
     ]
    }
   ],
   "source": [
    "#Filter()\n",
    "'''\n",
    "Selects elements from an iterable based on a condition\n",
    "Returns a filter object with selected elements\n",
    "example\n",
    "'''\n",
    "def is_even(x):\n",
    "    return x % 2 == 0\n",
    "\n",
    "numbers = [1, 2, 3, 4, 5]\n",
    "even_numbers = list(filter(is_even, numbers))\n",
    "print(even_numbers) \n"
   ]
  },
  {
   "cell_type": "code",
   "execution_count": null,
   "id": "c50be47c-0b26-4ceb-839a-be5d95a19af4",
   "metadata": {},
   "outputs": [],
   "source": [
    "#Key differences\n",
    "'''\n",
    "1. Purpose:\n",
    "    - `map()`: Transform elements.\n",
    "    - `filter()`: Select elements.\n",
    "    - `reduce()`: Accumulate a result.\n",
    "2. Output:\n",
    "    - `map()`: Iterable with transformed elements.\n",
    "    - `filter()`: Iterable with selected elements.\n",
    "    - `reduce()`: Single value.\n",
    "3. Function signature:\n",
    "    - `map()`: `function(element)`.\n",
    "    - `filter()`: `function(element)` returns boolean.\n",
    "    - `reduce()`: `function(accumulator, element)`"
   ]
  },
  {
   "cell_type": "markdown",
   "id": "101f9d50-cc64-4b4f-bb8d-8408e429626d",
   "metadata": {},
   "source": [
    "Note: My 11th answer will be attach in drive as per instructions\n",
    "Thank You"
   ]
  }
 ],
 "metadata": {
  "kernelspec": {
   "display_name": "anaconda-2024.02-py310",
   "language": "python",
   "name": "conda-env-anaconda-2024.02-py310-py"
  },
  "language_info": {
   "codemirror_mode": {
    "name": "ipython",
    "version": 3
   },
   "file_extension": ".py",
   "mimetype": "text/x-python",
   "name": "python",
   "nbconvert_exporter": "python",
   "pygments_lexer": "ipython3",
   "version": "3.10.14"
  }
 },
 "nbformat": 4,
 "nbformat_minor": 5
}
