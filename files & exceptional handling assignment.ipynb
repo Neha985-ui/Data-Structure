{
 "cells": [
  {
   "cell_type": "markdown",
   "id": "70aeb5d9-f52d-4c20-b6a0-2590abcc3f8b",
   "metadata": {},
   "source": [
    "files & exceptional handling assignment"
   ]
  },
  {
   "cell_type": "code",
   "execution_count": null,
   "id": "a9b75000-9c38-4b03-b531-da1435d01a12",
   "metadata": {},
   "outputs": [],
   "source": [
    "#1. Discuss the scenarios where multithreading is preferable to multiprocessing and scenarios where multiprocessing \n",
    "''' is a better choice.\n",
    "Multithreading\n",
    "When to use:\n",
    "*I/O-bound tasks: Multithreading is ideal for tasks where the program spends a lot of time waiting for external resources \n",
    "(e.g., file I/O, network I/O, database queries). In these cases, threads can continue executing while other threads are\n",
    "blocked, making efficient use of the CPU.\n",
    "*Shared memory: Threads share the same memory space, so if multiple threads need to work on the same data without heavy \n",
    "computation, multithreading is faster and simpler to manage.\n",
    "example\n",
    "Web scraping (many requests at the same time)\n",
    "Downloading multiple files concurrently\n",
    "Serving multiple client requests in a web server\n",
    "\n",
    "\n",
    "Multiprocessing\n",
    "When to use:\n",
    "\n",
    "*CPU-bound tasks: Multiprocessing is better when the task involves heavy computation and can fully utilize multiple CPU cores.\n",
    "Each process runs in its own memory space and can run on a separate core.\n",
    "*Avoiding Global Interpreter Lock (GIL): Python has a GIL, which prevents multiple threads from executing Python bytecode \n",
    "in parallel. Multiprocessing sidesteps the GIL by creating separate processes, each with its own interpreter.\n",
    "Example\n",
    "Image processing\n",
    "Numerical simulations (e.g., machine learning training, matrix operations)\n",
    "Data analysis or large-scale computation\n"
   ]
  },
  {
   "cell_type": "code",
   "execution_count": 2,
   "id": "e6a9280d-a4a6-4ce7-93a8-2a75136d9e2a",
   "metadata": {},
   "outputs": [
    {
     "name": "stdout",
     "output_type": "stream",
     "text": [
      "[1, 4, 9, 16, 25]\n"
     ]
    }
   ],
   "source": [
    "#Describe what a process pool is and how it helps in managing multiple processes efficiently.\n",
    "'''\n",
    "A process pool is a collection of worker processes that can execute tasks concurrently. It is useful when you have multiple \n",
    "independent tasks to run in parallel and want to limit the number of concurrent processes (to avoid overloading the system).\n",
    "Benefits:\n",
    "Efficient resource management: Rather than creating a new process for every task, a pool reuses a set of pre-created processes.\n",
    "Concurrency management: It allows the program to run multiple processes without creating excessive overhead. You can control \n",
    "the number of processes in the pool.\n",
    "Task delegation: You can submit tasks to the pool and have them executed asynchronously by the worker processes.\n",
    "Example \n",
    "Using multiprocessing.Pool, a pool of processes can be used to distribute tasks.\n",
    "'''\n",
    "from multiprocessing import Pool\n",
    "\n",
    "def square(x):\n",
    "    return x * x\n",
    "\n",
    "if __name__ == '__main__':\n",
    "    with Pool(4) as p:  \n",
    "        result = p.map(square, [1, 2, 3, 4, 5])\n",
    "    print(result)\n"
   ]
  },
  {
   "cell_type": "code",
   "execution_count": null,
   "id": "0ac9d9d3-77bd-4e72-9d6c-86f32f371c93",
   "metadata": {},
   "outputs": [],
   "source": [
    "#3. Explain what multiprocessing is and why it is used in Python programs.\n",
    "'''\n",
    "What is multiprocessing?\n",
    "Multiprocessing in Python refers to running multiple processes concurrently. Unlike threads, each process has its own memory \n",
    "space and can run independently of others.\n",
    "It is used to bypass the Global Interpreter Lock (GIL) in Python, which prevents multiple threads from executing Python\n",
    "bytecode simultaneously. This makes multiprocessing suitable for CPU-bound tasks where parallel execution can lead to a \n",
    "significant performance boost.\n",
    "\n",
    "Why use multiprocessing?\n",
    "Parallelism: It allows tasks to run in parallel on multiple CPU cores, which is particularly useful for CPU-heavy tasks.\n",
    "Independence: Processes are completely isolated, so a crash in one does not affect others.\n",
    "Better performance for CPU-bound tasks: When doing tasks like heavy computation, using multiprocessing can speed up execution.\n"
   ]
  },
  {
   "cell_type": "code",
   "execution_count": 4,
   "id": "48bd7d72-2dba-4d69-845f-ea50dcee410b",
   "metadata": {},
   "outputs": [
    {
     "name": "stdout",
     "output_type": "stream",
     "text": [
      "Added 0\n",
      "Added 1\n",
      "Added 2\n",
      "Added 3\n",
      "Added 4\n",
      "Added 5\n",
      "Added 6\n",
      "Added 7\n",
      "Added 8\n",
      "Added 9\n",
      "Removed 9\n",
      "Removed 8\n",
      "Removed 7\n",
      "Removed 6\n",
      "Removed 5\n",
      "Removed 4\n",
      "Removed 3\n",
      "Removed 2\n",
      "Removed 1\n",
      "Removed 0\n",
      "Final list: []\n"
     ]
    }
   ],
   "source": [
    "#4. Write a Python program using multithreading where one thread adds numbers to a list, and another thread removes \n",
    "#numbers from the list. Implement a mechanism to avoid race conditions using threading.Lock\n",
    "\n",
    "import threading\n",
    "\n",
    "# Shared data structure\n",
    "numbers = []\n",
    "\n",
    "# Lock to prevent race conditions\n",
    "lock = threading.Lock()\n",
    "\n",
    "def add_numbers():\n",
    "    for i in range(10):\n",
    "        with lock:  # Locking before modifying shared resource\n",
    "            numbers.append(i)\n",
    "            print(f\"Added {i}\")\n",
    "\n",
    "def remove_numbers():\n",
    "    for _ in range(10):\n",
    "        with lock:  # Locking before accessing shared resource\n",
    "            if numbers:\n",
    "                number = numbers.pop()\n",
    "                print(f\"Removed {number}\")\n",
    "\n",
    "# Create threads\n",
    "thread1 = threading.Thread(target=add_numbers)\n",
    "thread2 = threading.Thread(target=remove_numbers)\n",
    "\n",
    "# Start threads\n",
    "thread1.start()\n",
    "thread2.start()\n",
    "\n",
    "# Wait for both threads to finish\n",
    "thread1.join()\n",
    "thread2.join()\n",
    "\n",
    "print(\"Final list:\", numbers)\n",
    "\n"
   ]
  },
  {
   "cell_type": "code",
   "execution_count": 6,
   "id": "e3c2c19b-582b-4cee-99e7-7eee3447525e",
   "metadata": {},
   "outputs": [
    {
     "name": "stdout",
     "output_type": "stream",
     "text": [
      "Hello from worker thread\n"
     ]
    }
   ],
   "source": [
    "#Describe the methods and tools available in Python for safely sharing data between threads and processes.\n",
    "'''\n",
    "For threads:\n",
    "Threading.Lock: This ensures that only one thread can access a shared resource at a time, preventing race conditions.\n",
    "Queue: The queue.Queue module provides a thread-safe way to exchange data between threads.\n",
    "Event: Threads can use events to synchronize their actions (e.g., one thread waits for another to complete).\n",
    "For processes:\n",
    "Multiprocessing.Queue: Similar to queue.Queue for threads but for use between processes. It is a safe way to share \n",
    "data across processes.\n",
    "Manager: The multiprocessing.Manager() can create shared data structures like lists,dictionaries, etc., that can be \n",
    "shared between processes.\n",
    "Pipe: A two-way communication channel between processes.\n",
    "Example\n",
    "'''\n",
    "import threading\n",
    "import queue\n",
    "\n",
    "def worker(q):\n",
    "    q.put(\"Hello from worker thread\")\n",
    "\n",
    "q = queue.Queue()\n",
    "t = threading.Thread(target=worker, args=(q,))\n",
    "t.start()\n",
    "t.join()\n",
    "print(q.get())\n"
   ]
  },
  {
   "cell_type": "code",
   "execution_count": 10,
   "id": "b85fba23-c549-4715-af4c-43931b8d0e6e",
   "metadata": {},
   "outputs": [
    {
     "name": "stderr",
     "output_type": "stream",
     "text": [
      "ERROR:root:Error in worker thread: Something went wrong in the thread\n"
     ]
    }
   ],
   "source": [
    "#6. Discuss why it’s crucial to handle exceptions in concurrent programs and the techniques available for doing so.\n",
    "\n",
    "'''\n",
    "Handling exceptions in concurrent programs is crucial because:\n",
    "\n",
    "Uncaught exceptions can cause threads or processes to terminate unexpectedly, leaving resources in an inconsistent state.\n",
    "Thread and process isolation: In threads and processes, errors in one thread/process can affect others, or the main program \n",
    "may fail silently if exceptions are not caught.\n",
    "\n",
    "Techniques for handling exceptions:\n",
    "Try-except blocks: Use try-except within threads or processes to catch specific errors.\n",
    "Custom exception handling: Each thread or process can have its own exception handler.\n",
    "Logging: Implement logging to capture exceptions in concurrent environments for debugging purposes.\n",
    "Example\n",
    "'''\n",
    "import threading\n",
    "import logging\n",
    "\n",
    "def worker():\n",
    "    try:\n",
    "        # Simulating an error\n",
    "        raise ValueError(\"Something went wrong in the thread\")\n",
    "    except Exception as e:\n",
    "        logging.error(f\"Error in worker thread: {e}\")\n",
    "\n",
    "logging.basicConfig(level=logging.ERROR)\n",
    "t = threading.Thread(target=worker)\n",
    "t.start()\n",
    "t.join()\n",
    "\n"
   ]
  },
  {
   "cell_type": "code",
   "execution_count": 12,
   "id": "14a2771c-1f10-4faf-aad5-10abc74e5acb",
   "metadata": {},
   "outputs": [
    {
     "name": "stdout",
     "output_type": "stream",
     "text": [
      "[1, 2, 6, 24, 120, 720, 5040, 40320, 362880, 3628800]\n"
     ]
    }
   ],
   "source": [
    "#7.Create a program that uses a thread pool to calculate the factorial of numbers from 1 to 10 concurrently. Use \n",
    "#concurrent.futures.ThreadPoolExecutor to manage the threads.\n",
    "import concurrent.futures\n",
    "\n",
    "def factorial(n):\n",
    "    if n == 0:\n",
    "        return 1\n",
    "    return n * factorial(n - 1)\n",
    "\n",
    "with concurrent.futures.ThreadPoolExecutor() as executor:\n",
    "    results = list(executor.map(factorial, range(1, 11)))\n",
    "\n",
    "print(results)\n",
    "\n",
    "\n",
    "\n"
   ]
  },
  {
   "cell_type": "code",
   "execution_count": 14,
   "id": "a808196e-1564-4d88-b180-0b53b1654c3f",
   "metadata": {},
   "outputs": [
    {
     "name": "stdout",
     "output_type": "stream",
     "text": [
      "Result with 2 processes: [1, 4, 9, 16, 25, 36, 49, 64, 81, 100]\n",
      "Time taken: 0.0032088756561279297 seconds\n",
      "Result with 4 processes: [1, 4, 9, 16, 25, 36, 49, 64, 81, 100]\n",
      "Time taken: 0.0014142990112304688 seconds\n",
      "Result with 8 processes: [1, 4, 9, 16, 25, 36, 49, 64, 81, 100]\n",
      "Time taken: 0.0019142627716064453 seconds\n"
     ]
    }
   ],
   "source": [
    "#8.Create a Python program that uses multiprocessing.Pool to compute the square of numbers from 1 to 10 in parallel.\n",
    "#Measure the time taken to perform this computation using a pool of different sizes (e.g., 2, 4, 8 processes).\n",
    "import multiprocessing\n",
    "import time\n",
    "\n",
    "def square(x):\n",
    "    return x * x\n",
    "\n",
    "def measure_time(pool_size):\n",
    "    with multiprocessing.Pool(pool_size) as pool:\n",
    "        start_time = time.time()\n",
    "        result = pool.map(square, range(1, 11))\n",
    "        end_time = time.time()\n",
    "        print(f\"Result with {pool_size} processes: {result}\")\n",
    "        print(f\"Time taken: {end_time - start_time} seconds\")\n",
    "\n",
    "for pool_size in [2, 4, 8]:\n",
    "    measure_time(pool_size)\n"
   ]
  },
  {
   "cell_type": "code",
   "execution_count": null,
   "id": "d594c877-b329-4648-9d86-e76321d8656d",
   "metadata": {},
   "outputs": [],
   "source": []
  }
 ],
 "metadata": {
  "kernelspec": {
   "display_name": "anaconda-panel-2023.05-py310",
   "language": "python",
   "name": "conda-env-anaconda-panel-2023.05-py310-py"
  },
  "language_info": {
   "codemirror_mode": {
    "name": "ipython",
    "version": 3
   },
   "file_extension": ".py",
   "mimetype": "text/x-python",
   "name": "python",
   "nbconvert_exporter": "python",
   "pygments_lexer": "ipython3",
   "version": "3.11.5"
  }
 },
 "nbformat": 4,
 "nbformat_minor": 5
}
